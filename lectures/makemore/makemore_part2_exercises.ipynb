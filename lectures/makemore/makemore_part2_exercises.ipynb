{
  "nbformat": 4,
  "nbformat_minor": 0,
  "metadata": {
    "colab": {
      "provenance": [],
      "authorship_tag": "ABX9TyN3HvIebFRlQxN31CfxzHoy",
      "include_colab_link": true
    },
    "kernelspec": {
      "name": "python3",
      "display_name": "Python 3"
    },
    "language_info": {
      "name": "python"
    }
  },
  "cells": [
    {
      "cell_type": "markdown",
      "metadata": {
        "id": "view-in-github",
        "colab_type": "text"
      },
      "source": [
        "<a href=\"https://colab.research.google.com/github/iamthedoan/nn-zero-to-hero/blob/master/lectures/makemore/makemore_part2_exercises.ipynb\" target=\"_parent\"><img src=\"https://colab.research.google.com/assets/colab-badge.svg\" alt=\"Open In Colab\"/></a>"
      ]
    },
    {
      "cell_type": "code",
      "execution_count": 3,
      "metadata": {
        "id": "p0TfWz9T_hBT"
      },
      "outputs": [],
      "source": [
        "import torch\n",
        "import torch.nn.functional as F\n",
        "import matplotlib.pyplot as plt"
      ]
    },
    {
      "cell_type": "code",
      "source": [
        "# download the names.txt file from github\n",
        "!wget https://raw.githubusercontent.com/karpathy/makemore/master/names.txt"
      ],
      "metadata": {
        "colab": {
          "base_uri": "https://localhost:8080/"
        },
        "id": "NkF3bGnM_vlQ",
        "outputId": "8896b8d1-e53d-4a31-fc9a-21b24d1f9a69"
      },
      "execution_count": 4,
      "outputs": [
        {
          "output_type": "stream",
          "name": "stdout",
          "text": [
            "--2024-06-07 17:51:05--  https://raw.githubusercontent.com/karpathy/makemore/master/names.txt\n",
            "Resolving raw.githubusercontent.com (raw.githubusercontent.com)... 185.199.108.133, 185.199.109.133, 185.199.110.133, ...\n",
            "Connecting to raw.githubusercontent.com (raw.githubusercontent.com)|185.199.108.133|:443... connected.\n",
            "HTTP request sent, awaiting response... 200 OK\n",
            "Length: 228145 (223K) [text/plain]\n",
            "Saving to: ‘names.txt’\n",
            "\n",
            "names.txt           100%[===================>] 222.80K  --.-KB/s    in 0.03s   \n",
            "\n",
            "2024-06-07 17:51:06 (6.36 MB/s) - ‘names.txt’ saved [228145/228145]\n",
            "\n"
          ]
        }
      ]
    },
    {
      "cell_type": "code",
      "source": [
        "words = open('names.txt', 'r').read().splitlines()\n",
        "print(words[:5])\n",
        "print(len(words))"
      ],
      "metadata": {
        "colab": {
          "base_uri": "https://localhost:8080/"
        },
        "id": "WzURgzqZ_017",
        "outputId": "4bf5bce1-ca5e-4ab0-aaed-7dd4a7ec2960"
      },
      "execution_count": 5,
      "outputs": [
        {
          "output_type": "stream",
          "name": "stdout",
          "text": [
            "['emma', 'olivia', 'ava', 'isabella', 'sophia']\n",
            "32033\n"
          ]
        }
      ]
    },
    {
      "cell_type": "markdown",
      "source": [
        "**E01: Tune the hyperparameters of the training to beat my best validation loss of 2.2**"
      ],
      "metadata": {
        "id": "WydRMNy9_9yv"
      }
    },
    {
      "cell_type": "code",
      "source": [
        "# build the vocabulary of characters and mappings to/from integers\n",
        "chars = sorted(list(set(''.join(words))))\n",
        "stoi = {s:i+1 for i,s in enumerate(chars)}\n",
        "stoi['.'] = 0\n",
        "itos = {i:s for s,i in stoi.items()}\n",
        "print(itos)"
      ],
      "metadata": {
        "colab": {
          "base_uri": "https://localhost:8080/"
        },
        "id": "yB_uOLDZAAjW",
        "outputId": "4e797dcc-859d-4500-f558-3b128bac3f06"
      },
      "execution_count": 6,
      "outputs": [
        {
          "output_type": "stream",
          "name": "stdout",
          "text": [
            "{1: 'a', 2: 'b', 3: 'c', 4: 'd', 5: 'e', 6: 'f', 7: 'g', 8: 'h', 9: 'i', 10: 'j', 11: 'k', 12: 'l', 13: 'm', 14: 'n', 15: 'o', 16: 'p', 17: 'q', 18: 'r', 19: 's', 20: 't', 21: 'u', 22: 'v', 23: 'w', 24: 'x', 25: 'y', 26: 'z', 0: '.'}\n"
          ]
        }
      ]
    },
    {
      "cell_type": "code",
      "source": [
        "# build the dataset\n",
        "block_size = 4 # context length: how many characters do we take to predict the next one?\n",
        "\n",
        "def build_dataset(words):\n",
        "  X, Y = [], []\n",
        "  for w in words:\n",
        "\n",
        "    #print(w)\n",
        "    context = [0] * block_size\n",
        "    for ch in w + '.':\n",
        "      ix = stoi[ch]\n",
        "      X.append(context)\n",
        "      Y.append(ix)\n",
        "      #print(''.join(itos[i] for i in context), '--->', itos[ix])\n",
        "      context = context[1:] + [ix] # crop and append\n",
        "\n",
        "  X = torch.tensor(X)\n",
        "  Y = torch.tensor(Y)\n",
        "  print(X.shape, Y.shape)\n",
        "  return X, Y\n",
        "\n",
        "import random\n",
        "random.seed(42)\n",
        "random.shuffle(words)\n",
        "n1 = int(0.8*len(words))\n",
        "n2 = int(0.9*len(words))\n",
        "\n",
        "Xtr, Ytr = build_dataset(words[:n1])\n",
        "Xdev, Ydev = build_dataset(words[n1:n2])\n",
        "Xte, Yte = build_dataset(words[n2:])"
      ],
      "metadata": {
        "colab": {
          "base_uri": "https://localhost:8080/"
        },
        "id": "5_gXq44pADU5",
        "outputId": "2b4fe9bd-89b9-44bc-f851-2dcee63ff343"
      },
      "execution_count": 21,
      "outputs": [
        {
          "output_type": "stream",
          "name": "stdout",
          "text": [
            "torch.Size([182580, 4]) torch.Size([182580])\n",
            "torch.Size([22767, 4]) torch.Size([22767])\n",
            "torch.Size([22799, 4]) torch.Size([22799])\n"
          ]
        }
      ]
    },
    {
      "cell_type": "markdown",
      "source": [
        "Hyperparameters:\n",
        "- number of neurons\n",
        "- embedding dimensionality\n",
        "- block size\n",
        "- number of training runs\n",
        "- learning rate\n",
        "- learning rate decay\n",
        "- batch size"
      ],
      "metadata": {
        "id": "9tb1mdWhAMVy"
      }
    },
    {
      "cell_type": "code",
      "source": [
        "# hyperparameters\n",
        "\n",
        "emb_dim = 20\n",
        "num_neuron = 300\n",
        "input = block_size * emb_dim\n",
        "batch_size = 128 # can increase batch_size for lower loss but don't want to overfit\n",
        "\n",
        "lr = 0.1\n",
        "\n",
        "l1 = 0.125\n",
        "l2 = 0.125\n",
        "\n",
        "# emb_dim: 10 -> 15, 2.136 --> 2.076; decreased loss\n",
        "# num_neuron: 200 -> 300, 2.136 --> 2.133; no real change\n",
        "# batch_size: 32 -> 48, 2.136 --> 2.12; decreased loss\n",
        "\n",
        "# emb_dim: 15, num_neuron: 300, batch_size: 64; 2.053; decreased loss\n",
        "# emb_dim: 20, num_neuron: 300, batch_size: 64; 2.018; decreased loss\n",
        "\n",
        "# rate of decay (with line above), lr = 0.1 if i < 50000 else 0.01; 2.049; decreased loss\n",
        "# rate of decay, lr = 0.1 first 100000, 0.01 next 100k, 0.001 last 100k; 2.082\n",
        "\n",
        "# work on rate of decay and LR\n",
        "\n",
        "# regularization: 0.2 --> 2.012\n",
        "# 0.15 --> 2.011\n",
        "# 0.1 --> 2.013\n",
        "# 0.125 --> 2.011"
      ],
      "metadata": {
        "id": "Zachj87XA6pC"
      },
      "execution_count": 22,
      "outputs": []
    },
    {
      "cell_type": "code",
      "source": [
        "g = torch.Generator().manual_seed(2147483647) # for reproducibility\n",
        "C = torch.randn((27, emb_dim), generator=g) # 27 chars, 10 embeddings?\n",
        "W1 = torch.randn((input, num_neuron), generator=g) #  30 is num of inputs (3 (context) * 10 (embeddings)), 200 is number of neurons\n",
        "b1 = torch.randn(num_neuron, generator=g) # biases must match num neurons\n",
        "W2 = torch.randn((num_neuron, 27), generator=g)\n",
        "b2 = torch.randn(27, generator=g)\n",
        "parameters = [C, W1, b1, W2, b2]\n",
        "\n",
        "for p in parameters:\n",
        "  p.requires_grad = True\n",
        "\n",
        "lri = []\n",
        "lossi = []\n",
        "stepi = []"
      ],
      "metadata": {
        "id": "GWqYpCmwAkA8"
      },
      "execution_count": 23,
      "outputs": []
    },
    {
      "cell_type": "code",
      "source": [
        "sum(p.nelement() for p in parameters) # number of parameters in total"
      ],
      "metadata": {
        "colab": {
          "base_uri": "https://localhost:8080/"
        },
        "id": "UoaMX42dSoiF",
        "outputId": "b687a18f-4632-4ee1-861a-9b1fa3192358"
      },
      "execution_count": 109,
      "outputs": [
        {
          "output_type": "execute_result",
          "data": {
            "text/plain": [
              "26967"
            ]
          },
          "metadata": {},
          "execution_count": 109
        }
      ]
    },
    {
      "cell_type": "code",
      "source": [
        "for i in range(200000):\n",
        "\n",
        "  # minibatch construct\n",
        "  ix = torch.randint(0, Xtr.shape[0], (batch_size,)) # 32 is batch size\n",
        "\n",
        "  # forward pass\n",
        "  emb = C[Xtr[ix]] # (32, 3, 2)\n",
        "  h = torch.tanh(emb.view(-1, input) @ W1 + b1) # (32, 100)\n",
        "  logits = h @ W2 + b2 # (32, 27)\n",
        "  loss = F.cross_entropy(logits, Ytr[ix])\n",
        "\n",
        "  # regularization\n",
        "  loss += l1 * (W1**2).mean() + l2 * (W2**2).mean()\n",
        "  #print(loss.item())\n",
        "\n",
        "  # backward pass\n",
        "  for p in parameters:\n",
        "    p.grad = None\n",
        "  loss.backward()\n",
        "\n",
        "  # update\n",
        "  #lr = lrs[i]\n",
        "  lr = 0.1 if i < 100000 else 0.01\n",
        "\n",
        "  for p in parameters:\n",
        "    p.data += -lr * p.grad\n",
        "\n",
        "  # track stats\n",
        "  #lri.append(lre[i])\n",
        "  stepi.append(i)\n",
        "  lossi.append(loss.log10().item())\n",
        "\n",
        "  if i % 10000 == 0:\n",
        "    print(f\"batch {i} with loss {loss.item()} at lr {lr}\")\n",
        "#print(loss.item())"
      ],
      "metadata": {
        "colab": {
          "base_uri": "https://localhost:8080/"
        },
        "id": "xxb2hpuIA2Go",
        "outputId": "3b14557e-30a9-4f5e-8c3f-2d64f44a2b2a"
      },
      "execution_count": 24,
      "outputs": [
        {
          "output_type": "stream",
          "name": "stdout",
          "text": [
            "batch 0 with loss 31.794038772583008 at lr 0.1\n",
            "batch 10000 with loss 2.7055623531341553 at lr 0.1\n",
            "batch 20000 with loss 2.4192254543304443 at lr 0.1\n",
            "batch 30000 with loss 2.2750725746154785 at lr 0.1\n",
            "batch 40000 with loss 2.6556453704833984 at lr 0.1\n",
            "batch 50000 with loss 2.174666404724121 at lr 0.1\n",
            "batch 60000 with loss 2.2229044437408447 at lr 0.1\n",
            "batch 70000 with loss 2.2763426303863525 at lr 0.1\n",
            "batch 80000 with loss 2.1773993968963623 at lr 0.1\n",
            "batch 90000 with loss 2.1867451667785645 at lr 0.1\n",
            "batch 100000 with loss 2.3095030784606934 at lr 0.01\n",
            "batch 110000 with loss 2.0327532291412354 at lr 0.01\n",
            "batch 120000 with loss 2.300105571746826 at lr 0.01\n",
            "batch 130000 with loss 2.196686267852783 at lr 0.01\n",
            "batch 140000 with loss 2.2104456424713135 at lr 0.01\n",
            "batch 150000 with loss 2.039677381515503 at lr 0.01\n",
            "batch 160000 with loss 2.003998041152954 at lr 0.01\n",
            "batch 170000 with loss 2.0074737071990967 at lr 0.01\n",
            "batch 180000 with loss 1.966333270072937 at lr 0.01\n",
            "batch 190000 with loss 1.946354866027832 at lr 0.01\n"
          ]
        }
      ]
    },
    {
      "cell_type": "code",
      "source": [
        "plt.plot(stepi, lossi)"
      ],
      "metadata": {
        "colab": {
          "base_uri": "https://localhost:8080/",
          "height": 447
        },
        "id": "z4MwiHeAA4HS",
        "outputId": "06e0d73a-1f84-4e9f-9989-187b8be5b5b0"
      },
      "execution_count": 25,
      "outputs": [
        {
          "output_type": "execute_result",
          "data": {
            "text/plain": [
              "[<matplotlib.lines.Line2D at 0x78275b26e590>]"
            ]
          },
          "metadata": {},
          "execution_count": 25
        },
        {
          "output_type": "display_data",
          "data": {
            "text/plain": [
              "<Figure size 640x480 with 1 Axes>"
            ],
            "image/png": "[encoded data removed]"
          },
          "metadata": {}
        }
      ]
    },
    {
      "cell_type": "code",
      "source": [
        "# training loss\n",
        "emb = C[Xtr] # (32, 3, 2)\n",
        "h = torch.tanh(emb.view(-1, input) @ W1 + b1) # (32, 100)\n",
        "logits = h @ W2 + b2 # (32, 27)\n",
        "loss = F.cross_entropy(logits, Ytr)\n",
        "loss\n",
        "\n",
        "# lowest loss achieved: 2.0063"
      ],
      "metadata": {
        "colab": {
          "base_uri": "https://localhost:8080/"
        },
        "id": "Yuy_3ywxPgZi",
        "outputId": "d6c20388-4587-428d-8742-5377570a4f3a"
      },
      "execution_count": 26,
      "outputs": [
        {
          "output_type": "execute_result",
          "data": {
            "text/plain": [
              "tensor(1.9862, grad_fn=<NllLossBackward0>)"
            ]
          },
          "metadata": {},
          "execution_count": 26
        }
      ]
    },
    {
      "cell_type": "code",
      "source": [
        "# validation loss\n",
        "emb = C[Xdev] # (32, 3, 2)\n",
        "h = torch.tanh(emb.view(-1, input) @ W1 + b1) # (32, 100)\n",
        "logits = h @ W2 + b2 # (32, 27)\n",
        "loss = F.cross_entropy(logits, Ydev)\n",
        "loss"
      ],
      "metadata": {
        "colab": {
          "base_uri": "https://localhost:8080/"
        },
        "id": "0oks9iV0bdHz",
        "outputId": "8429a8e0-be73-4466-e6d7-03d5feddd961"
      },
      "execution_count": 27,
      "outputs": [
        {
          "output_type": "execute_result",
          "data": {
            "text/plain": [
              "tensor(2.0914, grad_fn=<NllLossBackward0>)"
            ]
          },
          "metadata": {},
          "execution_count": 27
        }
      ]
    },
    {
      "cell_type": "code",
      "source": [
        "# visualize dimensions 0 and 1 of the embedding matrix C for all characters\n",
        "plt.figure(figsize=(8,8))\n",
        "plt.scatter(C[:,0].data, C[:,1].data, s=200)\n",
        "for i in range(C.shape[0]):\n",
        "    plt.text(C[i,0].item(), C[i,1].item(), itos[i], ha=\"center\", va=\"center\", color='white')\n",
        "plt.grid('minor')"
      ],
      "metadata": {
        "colab": {
          "base_uri": "https://localhost:8080/",
          "height": 676
        },
        "id": "spPg2QTmbjcY",
        "outputId": "548548a4-c1d0-4fa4-e003-79d624f92f2e"
      },
      "execution_count": 28,
      "outputs": [
        {
          "output_type": "display_data",
          "data": {
            "text/plain": [
              "<Figure size 800x800 with 1 Axes>"
            ],
            "image/png": "[encoded data removed]"
          },
          "metadata": {}
        }
      ]
    },
    {
      "cell_type": "code",
      "source": [
        "# sample from the model\n",
        "g = torch.Generator().manual_seed(2147483647 + 10)\n",
        "\n",
        "for _ in range(20):\n",
        "\n",
        "    out = []\n",
        "    context = [0] * block_size # initialize with all ...\n",
        "    while True:\n",
        "      emb = C[torch.tensor([context])] # (1,block_size,d)\n",
        "      h = torch.tanh(emb.view(1, -1) @ W1 + b1)\n",
        "      logits = h @ W2 + b2\n",
        "      probs = F.softmax(logits, dim=1)\n",
        "      ix = torch.multinomial(probs, num_samples=1, generator=g).item()\n",
        "      context = context[1:] + [ix]\n",
        "      out.append(ix)\n",
        "      if ix == 0:\n",
        "        break\n",
        "\n",
        "    print(''.join(itos[i] for i in out))"
      ],
      "metadata": {
        "colab": {
          "base_uri": "https://localhost:8080/"
        },
        "id": "NHA0M6TMbt-8",
        "outputId": "df29141c-c644-494e-e2dc-7221c7d450d3"
      },
      "execution_count": 29,
      "outputs": [
        {
          "output_type": "stream",
          "name": "stdout",
          "text": [
            "montay.\n",
            "yazmiee.\n",
            "madyn.\n",
            "alarithan.\n",
            "endrien.\n",
            "adelynneliia.\n",
            "mikola.\n",
            "edelina.\n",
            "anarayat.\n",
            "kohlan.\n",
            "caysau.\n",
            "vigdhithest.\n",
            "jairenelipan.\n",
            "paiffon.\n",
            "kavdor.\n",
            "yahleyeh.\n",
            "yuma.\n",
            "myshelde.\n",
            "halina.\n",
            "yansum.\n"
          ]
        }
      ]
    },
    {
      "cell_type": "markdown",
      "source": [
        "**E02: I was not careful with the intialization of the network in this video. (1) What is the loss you'd get if the predicted probabilities at initialization were perfectly uniform? What loss do we achieve? (2) Can you tune the initialization to get a starting loss that is much more similar to (1)?**"
      ],
      "metadata": {
        "id": "WxdK34JF0aEK"
      }
    },
    {
      "cell_type": "code",
      "source": [
        "# build the dataset\n",
        "block_size = 3 # context length: how many characters do we take to predict the next one?\n",
        "\n",
        "import random\n",
        "random.seed(42)\n",
        "random.shuffle(words)\n",
        "n1 = int(0.8*len(words))\n",
        "n2 = int(0.9*len(words))\n",
        "\n",
        "Xtr, Ytr = build_dataset(words[:n1])\n",
        "Xdev, Ydev = build_dataset(words[n1:n2])\n",
        "Xte, Yte = build_dataset(words[n2:])"
      ],
      "metadata": {
        "colab": {
          "base_uri": "https://localhost:8080/"
        },
        "id": "bG1qNBTqISRO",
        "outputId": "d9e1fe9e-5d7d-4749-d8cc-777fee27f49f"
      },
      "execution_count": 47,
      "outputs": [
        {
          "output_type": "stream",
          "name": "stdout",
          "text": [
            "torch.Size([182441, 3]) torch.Size([182441])\n",
            "torch.Size([22902, 3]) torch.Size([22902])\n",
            "torch.Size([22803, 3]) torch.Size([22803])\n"
          ]
        }
      ]
    },
    {
      "cell_type": "code",
      "source": [
        "\n",
        "g = torch.Generator().manual_seed(2147483647) # for reproducibility\n",
        "C = torch.randn((27, 10), generator=g) # 27 chars, 10 embeddings?\n",
        "W1 = torch.randn((30, 200), generator=g) #  30 is num of inputs (3 (context) * 10 (embeddings)), 200 is number of neurons\n",
        "# b1 = torch.randn(200, generator=g) # biases must match num neurons\n",
        "b1 = torch.zeros(200)\n",
        "W2 = torch.randn((200, 27), generator=g)\n",
        "b2 = torch.randn(27, generator=g)\n",
        "parameters = [C, W1, b1, W2, b2]\n",
        "\n",
        "for p in parameters:\n",
        "  p.requires_grad = True\n"
      ],
      "metadata": {
        "id": "4CRWIIR0DKTF"
      },
      "execution_count": 55,
      "outputs": []
    },
    {
      "cell_type": "code",
      "source": [
        "b1.shape"
      ],
      "metadata": {
        "colab": {
          "base_uri": "https://localhost:8080/"
        },
        "id": "aKrffLszHTxB",
        "outputId": "924f80f1-37ed-4612-be88-2588d46e4eb5"
      },
      "execution_count": 32,
      "outputs": [
        {
          "output_type": "execute_result",
          "data": {
            "text/plain": [
              "torch.Size([300])"
            ]
          },
          "metadata": {},
          "execution_count": 32
        }
      ]
    },
    {
      "cell_type": "code",
      "source": [
        "# training loss\n",
        "emb = C[Xtr] # (32, 3, 2)\n",
        "h = torch.tanh(emb.view(-1, 30) @ W1 + b1) # (32, 100)\n",
        "logits = h @ W2 + b2 # (32, 27)\n",
        "\n",
        "# fills tensor with values drawn from uniform distribution\n",
        "torch.nn.init.uniform_(logits,0,1)\n",
        "loss = F.cross_entropy(logits, Ytr)\n",
        "print(f\"training loss: {loss.item()}\")\n",
        "\n",
        "# dev loss\n",
        "emb = C[Xdev] # (32, 3, 2)\n",
        "h = torch.tanh(emb.view(-1, 30) @ W1 + b1) # (32, 100)\n",
        "logits = h @ W2 + b2 # (32, 27)\n",
        "torch.nn.init.uniform_(logits,0,1)\n",
        "loss = F.cross_entropy(logits, Ydev)\n",
        "print(f\"dev loss: {loss.item()}\")"
      ],
      "metadata": {
        "colab": {
          "base_uri": "https://localhost:8080/"
        },
        "id": "m8q9kdLLn6KL",
        "outputId": "084b6b9c-03e2-4040-c398-bb2f63fea066"
      },
      "execution_count": 56,
      "outputs": [
        {
          "output_type": "stream",
          "name": "stdout",
          "text": [
            "training loss: 3.3350651264190674\n",
            "dev loss: 3.3353378772735596\n"
          ]
        }
      ]
    },
    {
      "cell_type": "code",
      "source": [
        "# tuning intialization\n",
        "\n",
        "# fills tensor with normal distribution\n",
        "torch.nn.init.normal_(C, 0, 0.01)\n",
        "torch.nn.init.normal_(W1, 0, 0.01)\n",
        "torch.nn.init.normal_(b1, 0, 0.01)\n",
        "torch.nn.init.normal_(W2, 0, 0.01)\n",
        "torch.nn.init.normal_(b2, 0, 0.01)\n",
        "\n",
        "\n",
        "ix = torch.randint(0, Xtr.shape[0], (32,))\n",
        "\n",
        "# training loss\n",
        "emb = C[Xtr] # (32, 3, 2)\n",
        "h = torch.tanh(emb.view(-1, 30) @ W1 + b1) # (32, 100)\n",
        "logits = h @ W2 + b2 # (32, 27)\n",
        "\n",
        "loss = F.cross_entropy(logits, Ytr)\n",
        "print(f\"training loss: {loss.item()}\")\n",
        "\n",
        "#"
      ],
      "metadata": {
        "colab": {
          "base_uri": "https://localhost:8080/"
        },
        "id": "7AffZm5I9aga",
        "outputId": "63526bde-c677-427a-d314-7bb7981bd30d"
      },
      "execution_count": 57,
      "outputs": [
        {
          "output_type": "stream",
          "name": "stdout",
          "text": [
            "training loss: 3.296443462371826\n"
          ]
        }
      ]
    }
  ]
}